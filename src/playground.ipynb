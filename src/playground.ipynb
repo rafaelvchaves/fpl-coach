{
 "cells": [
  {
   "cell_type": "code",
   "execution_count": 1,
   "id": "8a3ae1f2",
   "metadata": {},
   "outputs": [],
   "source": [
    "import pandas as pd\n",
    "import matplotlib.pyplot as plt\n",
    "import numpy as np\n",
    "from scipy.stats import poisson"
   ]
  },
  {
   "cell_type": "code",
   "execution_count": 2,
   "id": "9b5ce834",
   "metadata": {},
   "outputs": [],
   "source": [
    "df = pd.read_csv(\"../data/csv/gw_history.csv\")"
   ]
  },
  {
   "cell_type": "code",
   "execution_count": 4,
   "id": "31a54e42",
   "metadata": {
    "scrolled": true
   },
   "outputs": [
    {
     "data": {
      "text/html": [
       "<div>\n",
       "<style scoped>\n",
       "    .dataframe tbody tr th:only-of-type {\n",
       "        vertical-align: middle;\n",
       "    }\n",
       "\n",
       "    .dataframe tbody tr th {\n",
       "        vertical-align: top;\n",
       "    }\n",
       "\n",
       "    .dataframe thead th {\n",
       "        text-align: right;\n",
       "    }\n",
       "</style>\n",
       "<table border=\"1\" class=\"dataframe\">\n",
       "  <thead>\n",
       "    <tr style=\"text-align: right;\">\n",
       "      <th></th>\n",
       "      <th>player_id</th>\n",
       "      <th>player_name</th>\n",
       "      <th>position</th>\n",
       "      <th>fixture_id</th>\n",
       "      <th>gameweek</th>\n",
       "      <th>kickoff_date</th>\n",
       "      <th>team</th>\n",
       "      <th>opponent</th>\n",
       "      <th>completed</th>\n",
       "      <th>npxG</th>\n",
       "      <th>...</th>\n",
       "      <th>goal_xP</th>\n",
       "      <th>assist_xP</th>\n",
       "      <th>cs_xP</th>\n",
       "      <th>bonus_xP</th>\n",
       "      <th>concede_xP</th>\n",
       "      <th>xP</th>\n",
       "      <th>avg_npxG</th>\n",
       "      <th>avg_xA</th>\n",
       "      <th>avg_bonus</th>\n",
       "      <th>avg_minutes</th>\n",
       "    </tr>\n",
       "  </thead>\n",
       "  <tbody>\n",
       "    <tr>\n",
       "      <th>23684</th>\n",
       "      <td>736</td>\n",
       "      <td>Anthony Mancini</td>\n",
       "      <td>M</td>\n",
       "      <td>367</td>\n",
       "      <td>37</td>\n",
       "      <td>2022-05-15</td>\n",
       "      <td>Burnley</td>\n",
       "      <td>Spurs</td>\n",
       "      <td>1</td>\n",
       "      <td>NaN</td>\n",
       "      <td>...</td>\n",
       "      <td>NaN</td>\n",
       "      <td>NaN</td>\n",
       "      <td>NaN</td>\n",
       "      <td>NaN</td>\n",
       "      <td>NaN</td>\n",
       "      <td>NaN</td>\n",
       "      <td>NaN</td>\n",
       "      <td>NaN</td>\n",
       "      <td>NaN</td>\n",
       "      <td>NaN</td>\n",
       "    </tr>\n",
       "  </tbody>\n",
       "</table>\n",
       "<p>1 rows × 34 columns</p>\n",
       "</div>"
      ],
      "text/plain": [
       "       player_id      player_name position  fixture_id  gameweek kickoff_date  \\\n",
       "23684        736  Anthony Mancini        M         367        37   2022-05-15   \n",
       "\n",
       "          team opponent  completed  npxG  ...  goal_xP  assist_xP  cs_xP  \\\n",
       "23684  Burnley    Spurs          1   NaN  ...      NaN        NaN    NaN   \n",
       "\n",
       "       bonus_xP  concede_xP  xP  avg_npxG  avg_xA  avg_bonus  avg_minutes  \n",
       "23684       NaN         NaN NaN       NaN     NaN        NaN          NaN  \n",
       "\n",
       "[1 rows x 34 columns]"
      ]
     },
     "execution_count": 4,
     "metadata": {},
     "output_type": "execute_result"
    }
   ],
   "source": [
    "df[df[\"avg_minutes\"].isna() & (df[\"player_name\"] == \"Anthony Mancini\")]"
   ]
  },
  {
   "cell_type": "code",
   "execution_count": null,
   "id": "5522ed99",
   "metadata": {},
   "outputs": [],
   "source": []
  }
 ],
 "metadata": {
  "kernelspec": {
   "display_name": "Python 3 (ipykernel)",
   "language": "python",
   "name": "python3"
  },
  "language_info": {
   "codemirror_mode": {
    "name": "ipython",
    "version": 3
   },
   "file_extension": ".py",
   "mimetype": "text/x-python",
   "name": "python",
   "nbconvert_exporter": "python",
   "pygments_lexer": "ipython3",
   "version": "3.8.12"
  }
 },
 "nbformat": 4,
 "nbformat_minor": 5
}
