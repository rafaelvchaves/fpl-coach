{
 "cells": [
  {
   "cell_type": "code",
   "execution_count": 143,
   "id": "8a3ae1f2",
   "metadata": {},
   "outputs": [],
   "source": [
    "import pandas as pd\n",
    "import matplotlib.pyplot as plt\n",
    "import numpy as np\n",
    "from scipy.stats import poisson"
   ]
  },
  {
   "cell_type": "code",
   "execution_count": 155,
   "id": "9b5ce834",
   "metadata": {},
   "outputs": [],
   "source": [
    "df = pd.read_csv(\"../data/predictions.csv\")"
   ]
  },
  {
   "cell_type": "code",
   "execution_count": null,
   "id": "31a54e42",
   "metadata": {
    "scrolled": true
   },
   "outputs": [],
   "source": []
  },
  {
   "cell_type": "code",
   "execution_count": 160,
   "id": "935ef8e2",
   "metadata": {},
   "outputs": [],
   "source": [
    "predicted_cols = [\n",
    "    \"goal_xP\", \"assist_xP\", \"cs_xP\", \"bonus_xP\", \"concede_xP\", \"xP\"\n",
    "]\n",
    "\n",
    "point_cols = [\n",
    "    \"goal_points\", \"assist_points\", \"cs_points\", \"bonus\", \"concede_points\"\n",
    "]\n",
    "\n",
    "stat_cols = [\n",
    "    \"goals_scored\", \"assists\", \"clean_sheets\", \"bonus\", \"goals_conceded\"\n",
    "]\n",
    "params_json = from_json(\"../data/params.json\")\n",
    "\n",
    "\n",
    "\n",
    "def calculate_points(row):\n",
    "    stat_values = params_json[row[\"position\"]][\"stat_values\"]\n",
    "    return row[stat_cols] * stat_values\n",
    "known_point_totals = rows[rows[\"gameweek\"] < 34].copy()\n",
    "known_point_totals[point_cols] = known_point_totals.apply(\n",
    "    calculate_points, axis=1, result_type=\"expand\")\n",
    "all_point_cols = point_cols + [\"total_points\"]\n",
    "known_point_totals[\"concede_points\"] = - known_point_totals[\"goals_conceded\"] // 2"
   ]
  },
  {
   "cell_type": "code",
   "execution_count": 228,
   "id": "e5ff74f8",
   "metadata": {},
   "outputs": [
    {
     "data": {
      "image/png": "[encoded data removed]",
      "text/plain": [
       "<Figure size 432x288 with 1 Axes>"
      ]
     },
     "metadata": {},
     "output_type": "display_data"
    }
   ],
   "source": [
    "import seaborn as sns\n",
    "sns.set_style('whitegrid')\n",
    "player = \"Gabriel Teodoro Martinelli Silva\"\n",
    "stat = \"bonus_xP\"\n",
    "avg_stat = \"bonus\"\n",
    "\n",
    "x = [0,1,2,3]\n",
    "# dfp = known_point_totals[known_point_totals[\"player_name\"] == player]\n",
    "dfp = known_point_totals\n",
    "def freq(g):\n",
    "    return len(dfp[dfp[stat] == g]) / len(dfp)\n",
    "# plt.hist(dfp[\"npxG\"])\n",
    "sns.scatterplot(x=x, y=[freq(g) for g in x])\n",
    "sns.scatterplot(x=x, y=poisson(dfp[avg_stat].mean()).pmf(x), color='red')\n",
    "plt.show()\n",
    "# len(dfp[dfp[stat] == 1]) / len(dfp)"
   ]
  },
  {
   "cell_type": "code",
   "execution_count": null,
   "id": "5522ed99",
   "metadata": {},
   "outputs": [],
   "source": []
  }
 ],
 "metadata": {
  "kernelspec": {
   "display_name": "Python 3 (ipykernel)",
   "language": "python",
   "name": "python3"
  },
  "language_info": {
   "codemirror_mode": {
    "name": "ipython",
    "version": 3
   },
   "file_extension": ".py",
   "mimetype": "text/x-python",
   "name": "python",
   "nbconvert_exporter": "python",
   "pygments_lexer": "ipython3",
   "version": "3.8.12"
  }
 },
 "nbformat": 4,
 "nbformat_minor": 5
}
